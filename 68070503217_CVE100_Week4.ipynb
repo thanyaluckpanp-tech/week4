{
  "cells": [
    {
      "cell_type": "markdown",
      "metadata": {
        "id": "view-in-github",
        "colab_type": "text"
      },
      "source": [
        "<a href=\"https://colab.research.google.com/github/thanyaluckpanp-tech/week4/blob/main/68070503217_CVE100_Week4.ipynb\" target=\"_parent\"><img src=\"https://colab.research.google.com/assets/colab-badge.svg\" alt=\"Open In Colab\"/></a>"
      ]
    },
    {
      "cell_type": "markdown",
      "metadata": {
        "id": "jMZl4MV2JweK"
      },
      "source": [
        "# Even and Odd\n",
        "iterate for loop from number 1 to n:\n",
        "of the number is even, print \"[number] is even\"\n",
        "otherwise, print \"{number} is odd:\n",
        "\n",
        "if n = 5 ==> expected output\n",
        "0 is even.\n",
        "1 is odd.\n",
        "2 is even.\n",
        "3 is odd.\n",
        "4 is even."
      ]
    },
    {
      "cell_type": "code",
      "execution_count": null,
      "metadata": {
        "id": "7lh8BowkJweL",
        "outputId": "79772f51-552b-4187-aff2-d2a545161959"
      },
      "outputs": [
        {
          "name": "stdout",
          "output_type": "stream",
          "text": [
            "even\n",
            "odd\n",
            "even\n",
            "odd\n",
            "even\n",
            "odd\n",
            "even\n",
            "odd\n",
            "even\n",
            "odd\n"
          ]
        }
      ],
      "source": [
        "for i in range(0,10):\n",
        "    if i %2==0:\n",
        "        print(\"even\")\n",
        "    else:\n",
        "        print(\"odd\")"
      ]
    },
    {
      "cell_type": "markdown",
      "metadata": {
        "id": "cqe_SFvZJweL"
      },
      "source": [
        "Multiplication\n",
        "- define n (n = 5)\n",
        "- Use a loop from 1 to 10 (the values of i is 1 to 10)\n",
        "- if the result of multiplication (num*i) is greater than 50 => print (\"The rusult is large\")\n",
        "- otherwise, print the actual result ==> print (\"Result=\", result)"
      ]
    },
    {
      "cell_type": "code",
      "execution_count": null,
      "metadata": {
        "id": "u3th45joJweL",
        "outputId": "fedbb373-a5b2-4749-9e16-320d6025f79e"
      },
      "outputs": [
        {
          "name": "stdout",
          "output_type": "stream",
          "text": [
            "Result= 5\n",
            "Result= 10\n",
            "Result= 15\n",
            "Result= 20\n",
            "Result= 25\n",
            "Result= 30\n",
            "Result= 35\n",
            "Result= 40\n",
            "Result= 45\n",
            "Result= 50\n"
          ]
        }
      ],
      "source": [
        "n = 5\n",
        "\n",
        "for i in range(1,11):\n",
        "    result = n * i\n",
        "    if result > 50:\n",
        "        print(\"The result is large\")\n",
        "    else:\n",
        "        print(\"Result=\", result)"
      ]
    },
    {
      "cell_type": "markdown",
      "metadata": {
        "id": "JEswGvFnJweM"
      },
      "source": [
        "Skipping the special numbers\n",
        "\n",
        "define n\n",
        "loop numbers from 1 to n\n",
        "if the number is divisible 4 ==> skip it with continue\n",
        "if the number is greater than 20 ==> stop the loop with break\n",
        "otherwise --> print the number"
      ]
    },
    {
      "cell_type": "code",
      "execution_count": null,
      "metadata": {
        "id": "z0QlMxC1JweM",
        "outputId": "6f3a8d7f-d604-452f-c5bb-91e06c47d91e"
      },
      "outputs": [
        {
          "name": "stdout",
          "output_type": "stream",
          "text": [
            "1\n",
            "2\n",
            "3\n",
            "5\n",
            "6\n",
            "7\n",
            "9\n",
            "10\n",
            "11\n",
            "13\n",
            "14\n",
            "15\n",
            "17\n",
            "18\n",
            "19\n"
          ]
        }
      ],
      "source": [
        "n = 22\n",
        "\n",
        "for i in range(1, n ):\n",
        "    if i % 4 == 0:\n",
        "        continue # skip numbers divisible by 4\n",
        "    if i > 20:\n",
        "        break # stop loop if number > 20\n",
        "    print(i)"
      ]
    },
    {
      "cell_type": "markdown",
      "metadata": {
        "id": "Sk-oqc4XJweM"
      },
      "source": [
        "Skipping the special numbers\n",
        "\n",
        "define n\n",
        "loop numbers from 1 to n\n",
        "id the number is divisible 4 ==> skip it with continue\n",
        "if the number is greater than 20 ==> stop the loop with break\n",
        "otherwise --> print the number"
      ]
    },
    {
      "cell_type": "markdown",
      "metadata": {
        "id": "m1-G3EY4JweM"
      },
      "source": [
        "Guess the number\n",
        "The secret number is 777.\n",
        "- Ask the user to guess until they get it right.\n",
        "- If the guess is wrong, print \"Try again\" and ask the user again.\n",
        "- If the gusee is correct, print \"You got it\" and stop the loop."
      ]
    },
    {
      "cell_type": "code",
      "execution_count": null,
      "metadata": {
        "id": "sX2awJq7JweM",
        "outputId": "400b8659-e3e5-4a04-abe7-e5bd70d077c2"
      },
      "outputs": [
        {
          "name": "stdout",
          "output_type": "stream",
          "text": [
            "try again\n",
            "try again\n",
            "you got it\n"
          ]
        }
      ],
      "source": [
        "secret = 777\n",
        "guess =4\n",
        "while guess!= 777:\n",
        "    guess = int(input(\"Guess three digit lucky number from 000 to 999: \"))\n",
        "    if guess == 777:\n",
        "        print(\"you got it\")\n",
        "        break\n",
        "    else:\n",
        "        print(\"try again\")\n"
      ]
    },
    {
      "cell_type": "markdown",
      "metadata": {
        "id": "o-If2bE4JweM"
      },
      "source": [
        "Shopping Cart Checkout System\n",
        "\n",
        "Use initial variable total_bill=0\n",
        "Ask user to add price and add the price to total_bill.\n",
        "If total_bill>1000< print (\"limit reached. You cannot buy anymore\" and break the loop)"
      ]
    },
    {
      "cell_type": "code",
      "execution_count": null,
      "metadata": {
        "id": "IHQpy7i4JweM"
      },
      "outputs": [],
      "source": [
        "totalbill = 0\n",
        "while True:\n",
        "    item_price = float(input(\"Enter item price: \"))\n",
        "    totalbill += item_price\n",
        "    print(\"Current total bill is:\", totalbill)\n",
        "\n",
        "    if item_price > 1000:\n",
        "        print (\"limit reached. You cannot buy anymore\")\n",
        "        break\n",
        "print(\"Total bill is:\", totalbill)"
      ]
    }
  ],
  "metadata": {
    "colab": {
      "provenance": [],
      "include_colab_link": true
    },
    "kernelspec": {
      "display_name": "Python 3",
      "name": "python3"
    },
    "language_info": {
      "codemirror_mode": {
        "name": "ipython",
        "version": 3
      },
      "file_extension": ".py",
      "mimetype": "text/x-python",
      "name": "python",
      "nbconvert_exporter": "python",
      "pygments_lexer": "ipython3",
      "version": "3.12.6"
    }
  },
  "nbformat": 4,
  "nbformat_minor": 0
}